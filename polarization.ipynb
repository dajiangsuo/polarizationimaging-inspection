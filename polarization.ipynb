{
 "cells": [
  {
   "cell_type": "code",
   "execution_count": null,
   "metadata": {},
   "outputs": [],
   "source": [
    "import cv2\n",
    "import numpy as np\n",
    "import matplotlib.pyplot as plt\n",
    "\n",
    "#function to display the different image types\n",
    "def displayImages(Intensity, AoP, DoLP, HSVinBGR):\n",
    "    images = [Intensity, AoP, DoLP, HSVinBGR]\n",
    "    plot_titles = ['1-channel: Intensity', '1-channel: AoP', '1-channel: DoLP', 'HSV Image in BGR']\n",
    "    rows = 2\n",
    "    cols = 2\n",
    "    plt.figure(\"Polarization Parameters\")\n",
    "    for i in range(rows*cols):\n",
    "        img = images[i]\n",
    "        subplot_title = plot_titles[i]\n",
    "        plt.subplot(2,2,i+1)\n",
    "        plt.imshow(img)\n",
    "        plt.title(subplot_title)\n",
    "    plt.show()\n",
    "\n",
    "#replace file names here with the three images you want in your folder\n",
    "file_image0 = 'spoon_0.jpg'\n",
    "file_image45 = 'spoon_45.jpg'\n",
    "file_image90 = 'spoon_90.jpg'\n",
    "\n",
    "#reading images in bgr format and converting to grayscale\n",
    "image0 = np.int16(cv2.cvtColor(cv2.imread(file_image0),cv2.COLOR_BGR2GRAY))\n",
    "image45 = np.int16(cv2.cvtColor(cv2.imread(file_image45),cv2.COLOR_BGR2GRAY))\n",
    "image90 = np.int16(cv2.cvtColor(cv2.imread(file_image90),cv2.COLOR_BGR2GRAY))\n",
    "\n",
    "#calculating stokes parameters\n",
    "I = image0 + image90\n",
    "Q = image0 - image90\n",
    "U = 2*image45 - image0 - image90\n",
    "Intensity = np.sqrt(np.square(Q) + np.square(U))\n",
    "DoLP = Intensity/I\n",
    "AoP = 0.5*np.arctan2(U,Q)\n",
    "\n",
    "#Use polarization info to convert to HSV\n",
    "H = np.uint8(AoP*(180/np.pi))\n",
    "S = np.uint8(255*(DoLP/np.amax(DoLP)))\n",
    "V = np.uint8(255*(Intensity/np.amax(Intensity)))\n",
    "HSV = cv2.merge((H,S,V))\n",
    "new_image = cv2.cvtColor(HSV, cv2.COLOR_HSV2BGR)\n",
    "\n",
    "#Extract individual channels\n",
    "cv2.imwrite('intensity.jpg', Intensity)\n",
    "cv2.imwrite('DoLP.jpg', 255*DoLP)\n",
    "cv2.imwrite('AoP.jpg', 255*AoP)\n",
    "\n",
    "height, width = new_image.shape[:2]\n",
    "cv2.namedWindow('image', cv2.WINDOW_NORMAL)\n",
    "cv2.resizeWindow('image', width, height)\n",
    "cv2.imshow('image', new_image)\n",
    "cv2.waitKey(0)\n",
    "\n",
    "displayImages(Intensity, AoP, DoLP, new_image) #call the displayImages function\n"
   ]
  }
 ],
 "metadata": {
  "kernelspec": {
   "display_name": "cs231n",
   "language": "python",
   "name": "cs231n"
  },
  "language_info": {
   "codemirror_mode": {
    "name": "ipython",
    "version": 3
   },
   "file_extension": ".py",
   "mimetype": "text/x-python",
   "name": "python",
   "nbconvert_exporter": "python",
   "pygments_lexer": "ipython3",
   "version": "3.7.4"
  }
 },
 "nbformat": 4,
 "nbformat_minor": 2
}
